{
 "cells": [
  {
   "cell_type": "markdown",
   "id": "urban-gravity",
   "metadata": {},
   "source": [
    "#Malawi Mesonet Applicability\n",
    "\n",
    "This example follows the same procedure as the previous example in Minnesota. However, in my mind, that consistency is powerful - showing not only the vast world of data that we now live in, but the quality of the data analysis processes.\n",
    "\n",
    "One goal of this research project was to systematize the placement of climate sensors"
   ]
  },
  {
   "cell_type": "code",
   "execution_count": 22,
   "id": "dressed-colon",
   "metadata": {},
   "outputs": [],
   "source": [
    "#Import packages\n",
    "import rasterio\n",
    "import rasterio.features\n",
    "import rasterio.warp\n",
    "import requests\n",
    "from zipfile import ZipFile\n",
    "import fiona\n",
    "import geopandas as gpd\n",
    "import numpy as np"
   ]
  },
  {
   "cell_type": "code",
   "execution_count": 20,
   "id": "relevant-testimony",
   "metadata": {},
   "outputs": [],
   "source": [
    "# Source urls\n",
    "elevationURL = 'https://resources.gisdata.mn.gov/pub/gdrs/data/pub/us_mn_state_dnr/elev_30m_digital_elevation_model/fgdb_elev_30m_digital_elevation_model.zip'\n",
    "landcoverURL = 'https://resources.gisdata.mn.gov/pub/gdrs/data/pub/us_mn_state_dnr/biota_landcover_nlcd_mn_2016/tif_biota_landcover_nlcd_mn_2016.zip'"
   ]
  },
  {
   "cell_type": "code",
   "execution_count": 9,
   "id": "pediatric-champagne",
   "metadata": {},
   "outputs": [],
   "source": [
    "from rasterio.plot import show\n",
    "#show(elevation)"
   ]
  },
  {
   "cell_type": "code",
   "execution_count": 49,
   "id": "handed-thriller",
   "metadata": {},
   "outputs": [],
   "source": [
    "#landcover = rasterio.open('NLCD_2011_MN_Landcover.tif')\n",
    "#show(landcover)"
   ]
  },
  {
   "cell_type": "code",
   "execution_count": 50,
   "id": "respected-amplifier",
   "metadata": {},
   "outputs": [],
   "source": [
    "#!pip install shapely\n",
    "#!pip install pycrs"
   ]
  },
  {
   "cell_type": "code",
   "execution_count": 2,
   "id": "exempt-favorite",
   "metadata": {},
   "outputs": [],
   "source": [
    "Malawi_border = gpd.read_file(\"Malawi_Border/malawi_adm0.shp\")"
   ]
  },
  {
   "cell_type": "code",
   "execution_count": 174,
   "id": "honey-tower",
   "metadata": {},
   "outputs": [
    {
     "data": {
      "text/html": [
       "<div>\n",
       "<style scoped>\n",
       "    .dataframe tbody tr th:only-of-type {\n",
       "        vertical-align: middle;\n",
       "    }\n",
       "\n",
       "    .dataframe tbody tr th {\n",
       "        vertical-align: top;\n",
       "    }\n",
       "\n",
       "    .dataframe thead th {\n",
       "        text-align: right;\n",
       "    }\n",
       "</style>\n",
       "<table border=\"1\" class=\"dataframe\">\n",
       "  <thead>\n",
       "    <tr style=\"text-align: right;\">\n",
       "      <th></th>\n",
       "      <th>REGION</th>\n",
       "      <th>DIVISION</th>\n",
       "      <th>STATEFP</th>\n",
       "      <th>STATENS</th>\n",
       "      <th>GEOID</th>\n",
       "      <th>STUSPS</th>\n",
       "      <th>NAME</th>\n",
       "      <th>LSAD</th>\n",
       "      <th>MTFCC</th>\n",
       "      <th>FUNCSTAT</th>\n",
       "      <th>ALAND</th>\n",
       "      <th>AWATER</th>\n",
       "      <th>INTPTLAT</th>\n",
       "      <th>INTPTLON</th>\n",
       "      <th>geometry</th>\n",
       "    </tr>\n",
       "  </thead>\n",
       "  <tbody>\n",
       "    <tr>\n",
       "      <th>3</th>\n",
       "      <td>2</td>\n",
       "      <td>4</td>\n",
       "      <td>27</td>\n",
       "      <td>00662849</td>\n",
       "      <td>27</td>\n",
       "      <td>MN</td>\n",
       "      <td>Minnesota</td>\n",
       "      <td>00</td>\n",
       "      <td>G4000</td>\n",
       "      <td>A</td>\n",
       "      <td>206232157570</td>\n",
       "      <td>18949864226</td>\n",
       "      <td>+46.3159573</td>\n",
       "      <td>-094.1996043</td>\n",
       "      <td>POLYGON ((210324.633 5171063.920, 210328.118 5...</td>\n",
       "    </tr>\n",
       "  </tbody>\n",
       "</table>\n",
       "</div>"
      ],
      "text/plain": [
       "  REGION DIVISION STATEFP   STATENS GEOID STUSPS       NAME LSAD  MTFCC  \\\n",
       "3      2        4      27  00662849    27     MN  Minnesota   00  G4000   \n",
       "\n",
       "  FUNCSTAT         ALAND       AWATER     INTPTLAT      INTPTLON  \\\n",
       "3        A  206232157570  18949864226  +46.3159573  -094.1996043   \n",
       "\n",
       "                                            geometry  \n",
       "3  POLYGON ((210324.633 5171063.920, 210328.118 5...  "
      ]
     },
     "execution_count": 174,
     "metadata": {},
     "output_type": "execute_result"
    }
   ],
   "source": [
    "Malawi = Malawi_border\n",
    "Minnesota"
   ]
  },
  {
   "cell_type": "code",
   "execution_count": 175,
   "id": "surrounded-receiver",
   "metadata": {},
   "outputs": [],
   "source": [
    "Malawi = Malawi.to_crs(26915)"
   ]
  },
  {
   "cell_type": "code",
   "execution_count": 176,
   "id": "ideal-technique",
   "metadata": {},
   "outputs": [],
   "source": [
    "#Exporting Minnesota borders to shapefile\n",
    "Malawi.to_file('Malawi.shp', driver='ESRI Shapefile')"
   ]
  },
  {
   "cell_type": "markdown",
   "id": "sexual-reynolds",
   "metadata": {},
   "source": [
    "### Masking not required for Malawi because they have the same size"
   ]
  },
  {
   "cell_type": "code",
   "execution_count": null,
   "id": "collect-synthesis",
   "metadata": {},
   "outputs": [],
   "source": [
    "#Masking elevation data to Minnesota borders\n",
    "import fiona\n",
    "import rasterio\n",
    "import rasterio.mask\n",
    "    \n",
    "with fiona.open(\"Malawi.shp\", \"r\") as shapefile:\n",
    "    shapes = [feature[\"geometry\"] for feature in shapefile]\n",
    "\n",
    "with rasterio.open(\"Malawi Elevation/Malawi_SRTM30meters.tif\") as src:\n",
    "    out_image, out_transform = rasterio.mask.mask(src, shapes, crop=True)\n",
    "    out_meta = src.meta\n",
    "\n",
    "out_meta.update({\"driver\": \"GTiff\",\n",
    "                 \"height\": out_image.shape[1],\n",
    "                 \"width\": out_image.shape[2],\n",
    "                 \"transform\": out_transform})\n",
    "\n",
    "with rasterio.open(\"Malawi_elev_masked.tif\", \"w\", **out_meta) as dest:\n",
    "    dest.write(out_image)"
   ]
  },
  {
   "cell_type": "code",
   "execution_count": 4,
   "id": "known-young",
   "metadata": {},
   "outputs": [
    {
     "ename": "ModuleNotFoundError",
     "evalue": "No module named 'gdalconst'",
     "output_type": "error",
     "traceback": [
      "\u001b[0;31m---------------------------------------------------------------------------\u001b[0m",
      "\u001b[0;31mModuleNotFoundError\u001b[0m                       Traceback (most recent call last)",
      "\u001b[0;32m<ipython-input-4-0329fca1d812>\u001b[0m in \u001b[0;36m<module>\u001b[0;34m\u001b[0m\n\u001b[1;32m      1\u001b[0m \u001b[0;32mfrom\u001b[0m \u001b[0mosgeo\u001b[0m \u001b[0;32mimport\u001b[0m \u001b[0mgdal\u001b[0m\u001b[0;34m\u001b[0m\u001b[0;34m\u001b[0m\u001b[0m\n\u001b[0;32m----> 2\u001b[0;31m \u001b[0;32mfrom\u001b[0m \u001b[0mgdalconst\u001b[0m \u001b[0;32mimport\u001b[0m \u001b[0mGA_ReadOnly\u001b[0m\u001b[0;34m\u001b[0m\u001b[0;34m\u001b[0m\u001b[0m\n\u001b[0m\u001b[1;32m      3\u001b[0m \u001b[0;34m\u001b[0m\u001b[0m\n\u001b[1;32m      4\u001b[0m \u001b[0mmaskDs\u001b[0m \u001b[0;34m=\u001b[0m \u001b[0mgdal\u001b[0m\u001b[0;34m.\u001b[0m\u001b[0mOpen\u001b[0m\u001b[0;34m(\u001b[0m\u001b[0;34m'/Malawi_Elevtion/Malawi_SRTM30meters.tif'\u001b[0m\u001b[0;34m,\u001b[0m \u001b[0mGA_ReadOnly\u001b[0m\u001b[0;34m)\u001b[0m\u001b[0;31m# your mask raster\u001b[0m\u001b[0;34m\u001b[0m\u001b[0;34m\u001b[0m\u001b[0m\n\u001b[1;32m      5\u001b[0m \u001b[0mprojection\u001b[0m\u001b[0;34m=\u001b[0m\u001b[0mmaskDs\u001b[0m\u001b[0;34m.\u001b[0m\u001b[0mGetProjectionRef\u001b[0m\u001b[0;34m(\u001b[0m\u001b[0;34m)\u001b[0m\u001b[0;34m\u001b[0m\u001b[0;34m\u001b[0m\u001b[0m\n",
      "\u001b[0;31mModuleNotFoundError\u001b[0m: No module named 'gdalconst'"
     ]
    }
   ],
   "source": [
    "\n",
    "from osgeo import gdal\n",
    "from gdalconst import GA_ReadOnly\n",
    "\n",
    "maskDs = gdal.Open('/Malawi_Elevtion/Malawi_SRTM30meters.tif', GA_ReadOnly)# your mask raster\n",
    "projection=maskDs.GetProjectionRef()\n",
    "geoTransform = maskDs.GetGeoTransform()\n",
    "minx = geoTransform[0]\n",
    "maxy = geoTransform[3]\n",
    "maxx = minx + geoTransform[1] * maskDs.RasterXSize\n",
    "miny = maxy + geoTransform[5] * maskDs.RasterYSize\n",
    "\n",
    "\n",
    "data=gdal.Open('/Malawi_Landcover/Malawi_Landcover_2010_Scheme_I.tif', GA_ReadOnly) #Your data the one you want to clip\n",
    "output='output.tif' #output file\n",
    "gdal.Translate(output,data,format='GTiff',projWin=[minx,maxy,maxx,miny],outputSRS=projection)"
   ]
  },
  {
   "cell_type": "code",
   "execution_count": 14,
   "id": "afraid-recommendation",
   "metadata": {},
   "outputs": [],
   "source": [
    "#Masking landcover data to Malawi borders\n",
    "import fiona\n",
    "import rasterio\n",
    "import rasterio.mask\n",
    "    \n",
    "with fiona.open(\"Malawi.shp\", \"r\") as shapefile:\n",
    "    shapes = [feature[\"geometry\"] for feature in shapefile]\n",
    "\n",
    "with rasterio.open(\"Malawi_Landcover/Malawi_Landcover_2010_Scheme_I.tif\") as src:\n",
    "    out_image, out_transform = rasterio.mask.mask(src, shapes, crop=True)\n",
    "    out_meta = src.meta\n",
    "\n",
    "out_meta.update({\"driver\": \"GTiff\",\n",
    "                 \"height\": out_image.shape[1],\n",
    "                 \"width\": out_image.shape[2],\n",
    "                 \"transform\": out_transform})\n",
    "\n",
    "with rasterio.open(\"Malawi_NLCD_masked.tif\", \"w\", **out_meta) as dest:\n",
    "    dest.write(out_image)\n",
    "\n",
    "## Slope"
   ]
  },
  {
   "cell_type": "code",
   "execution_count": 3,
   "id": "genuine-chick",
   "metadata": {},
   "outputs": [],
   "source": [
    "from rasterio.plot import show_hist\n",
    "from rasterio.mask import mask\n",
    "from shapely.geometry import box\n",
    "from fiona.crs import from_epsg\n",
    "import pycrs"
   ]
  },
  {
   "cell_type": "code",
   "execution_count": 116,
   "id": "korean-guarantee",
   "metadata": {},
   "outputs": [],
   "source": [
    "#!pip install ospybook-latest.zip"
   ]
  },
  {
   "cell_type": "code",
   "execution_count": 4,
   "id": "developmental-movie",
   "metadata": {},
   "outputs": [],
   "source": [
    "# Script to compute slope from a DEM.\n",
    "# From \"Geoprocessing with Python\" by Chris Garrard (p. 253)\n",
    "\n",
    "import os\n",
    "import numpy as np\n",
    "from osgeo import gdal\n",
    "import ospybook as pb\n",
    "\n",
    "in_fn = 'Malawi_Elevation/Malawi_SRTM30meters.tif'\n",
    "out_fn = 'Malawi_Slopes.tif'\n",
    "\n",
    "# Get cell width and height.\n",
    "in_ds = gdal.Open(in_fn)\n",
    "cell_width = in_ds.GetGeoTransform()[1]\n",
    "cell_height = in_ds.GetGeoTransform()[5]\n",
    "\n",
    "# Read the data into a floating point array.\n",
    "band = in_ds.GetRasterBand(1)\n",
    "in_data = band.ReadAsArray().astype(float)\n",
    "\n",
    "# Initialize the output array with -99.\n",
    "out_data = np.ones((band.YSize, band.XSize)) * -99\n",
    "\n",
    "# Make the slices.\n",
    "slices = pb.make_slices(in_data, (3, 3))\n",
    "\n",
    "# Compute the slope using the equations from the text.\n",
    "rise = ((slices[6] + (2 * slices[7]) + slices[8]) -\n",
    "        (slices[0] + (2 * slices[1]) + slices[2])) / \\\n",
    "       (8 * cell_height)\n",
    "run =  ((slices[2] + (2 * slices[5]) + slices[8]) -\n",
    "        (slices[0] + (2 * slices[3]) + slices[6])) / \\\n",
    "       (8 * cell_width)\n",
    "dist = np.sqrt(np.square(rise) + np.square(run))\n",
    "\n",
    "# The output from the last equation is inserted into the middle\n",
    "# of the output array, ignoring the edges again.\n",
    "out_data[1:-1, 1:-1] = np.arctan(dist) * 180 / np.pi\n",
    "\n",
    "# Save the data.\n",
    "pb.make_raster(in_ds, out_fn, out_data, gdal.GDT_Float32, -99)\n",
    "del in_ds"
   ]
  },
  {
   "cell_type": "code",
   "execution_count": 7,
   "id": "generic-berry",
   "metadata": {},
   "outputs": [
    {
     "ename": "NameError",
     "evalue": "name 'out_data' is not defined",
     "output_type": "error",
     "traceback": [
      "\u001b[0;31m---------------------------------------------------------------------------\u001b[0m",
      "\u001b[0;31mNameError\u001b[0m                                 Traceback (most recent call last)",
      "\u001b[0;32m<ipython-input-7-39ade59ee8c8>\u001b[0m in \u001b[0;36m<module>\u001b[0;34m\u001b[0m\n\u001b[1;32m      1\u001b[0m \u001b[0;32mimport\u001b[0m \u001b[0mmatplotlib\u001b[0m\u001b[0;34m.\u001b[0m\u001b[0mpyplot\u001b[0m \u001b[0;32mas\u001b[0m \u001b[0mplt\u001b[0m\u001b[0;34m\u001b[0m\u001b[0;34m\u001b[0m\u001b[0m\n\u001b[1;32m      2\u001b[0m \u001b[0;34m\u001b[0m\u001b[0m\n\u001b[0;32m----> 3\u001b[0;31m \u001b[0mplt\u001b[0m\u001b[0;34m.\u001b[0m\u001b[0mimshow\u001b[0m\u001b[0;34m(\u001b[0m\u001b[0mout_data\u001b[0m\u001b[0;34m,\u001b[0m \u001b[0mcmap\u001b[0m\u001b[0;34m=\u001b[0m\u001b[0;34m\"GnBu\"\u001b[0m\u001b[0;34m)\u001b[0m\u001b[0;34m\u001b[0m\u001b[0;34m\u001b[0m\u001b[0m\n\u001b[0m",
      "\u001b[0;31mNameError\u001b[0m: name 'out_data' is not defined"
     ]
    }
   ],
   "source": [
    "import matplotlib.pyplot as plt\n",
    "\n",
    "plt.imshow(out_data, cmap=\"GnBu\")"
   ]
  },
  {
   "cell_type": "code",
   "execution_count": 8,
   "id": "ruled-german",
   "metadata": {},
   "outputs": [],
   "source": [
    "# Convert array to .tif\n",
    "ds = gdal.Open(\"Malawi_Elevation/Malawi_SRTM30meters.tif\")\n",
    "gt = ds.GetGeoTransform()\n",
    "proj = ds.GetProjection()\n",
    "\n",
    "driver = gdal.GetDriverByName(\"GTiff\")\n",
    "driver.Register()\n",
    "outds = driver.Create(\"out_data.tif\",xsize = out_data.shape[1],ysize = out_data.shape[0],bands=1,eType = gdal.GDT_Int16)\n",
    "\n",
    "outds.SetGeoTransform(gt)\n",
    "outds.SetProjection(proj)\n",
    "outband = outds.GetRasterBand(1)\n",
    "\n",
    "outband.WriteArray(out_data)\n",
    "\n",
    "outband.SetNoDataValue(np.nan)\n",
    "\n",
    "outband.FlushCache()\n",
    "\n",
    "outband = None\n",
    "outds = None"
   ]
  },
  {
   "cell_type": "code",
   "execution_count": 13,
   "id": "mediterranean-assurance",
   "metadata": {},
   "outputs": [
    {
     "ename": "NameError",
     "evalue": "name 'out_data' is not defined",
     "output_type": "error",
     "traceback": [
      "\u001b[0;31m---------------------------------------------------------------------------\u001b[0m",
      "\u001b[0;31mNameError\u001b[0m                                 Traceback (most recent call last)",
      "\u001b[0;32m<ipython-input-13-f9076f299f9d>\u001b[0m in \u001b[0;36m<module>\u001b[0;34m\u001b[0m\n\u001b[0;32m----> 1\u001b[0;31m \u001b[0mout_data\u001b[0m\u001b[0;34m.\u001b[0m\u001b[0mshape\u001b[0m\u001b[0;34m\u001b[0m\u001b[0;34m\u001b[0m\u001b[0m\n\u001b[0m",
      "\u001b[0;31mNameError\u001b[0m: name 'out_data' is not defined"
     ]
    }
   ],
   "source": [
    "out_data.shape"
   ]
  },
  {
   "cell_type": "code",
   "execution_count": 181,
   "id": "noted-empire",
   "metadata": {},
   "outputs": [
    {
     "data": {
      "text/plain": [
       "(27964, 11672)"
      ]
     },
     "execution_count": 181,
     "metadata": {},
     "output_type": "execute_result"
    }
   ],
   "source": [
    "Study_Area_Slope = out_data\n",
    "Study_Area_Slope.shape"
   ]
  },
  {
   "cell_type": "markdown",
   "id": "talented-cowboy",
   "metadata": {},
   "source": [
    "#### Reclassify appropriate and inappropriate slopes"
   ]
  },
  {
   "cell_type": "code",
   "execution_count": 23,
   "id": "spatial-eugene",
   "metadata": {},
   "outputs": [
    {
     "data": {
      "text/plain": [
       "<osgeo.gdal.Dataset; proxy of <Swig Object of type 'GDALDatasetShadow *' at 0x7f9cf13f7210> >"
      ]
     },
     "execution_count": 23,
     "metadata": {},
     "output_type": "execute_result"
    }
   ],
   "source": [
    "ds_slopes = gdal.Open('Malawi_Slopes.tif')\n",
    "ds_slopes"
   ]
  },
  {
   "cell_type": "code",
   "execution_count": 24,
   "id": "given-teach",
   "metadata": {},
   "outputs": [
    {
     "data": {
      "text/plain": [
       "<osgeo.gdal.Band; proxy of <Swig Object of type 'GDALRasterBandShadow *' at 0x7f9cf1387bd0> >"
      ]
     },
     "execution_count": 24,
     "metadata": {},
     "output_type": "execute_result"
    }
   ],
   "source": [
    "band_slopes = ds_slopes.GetRasterBand(1)\n",
    "band_slopes"
   ]
  },
  {
   "cell_type": "code",
   "execution_count": 25,
   "id": "preliminary-overview",
   "metadata": {},
   "outputs": [
    {
     "data": {
      "text/plain": [
       "array([[-99., -99., -99., ..., -99., -99., -99.],\n",
       "       [-99.,   0.,   0., ...,   0.,   0., -99.],\n",
       "       [-99.,   0.,   0., ...,   0.,   0., -99.],\n",
       "       ...,\n",
       "       [-99.,   0.,   0., ...,   0.,   0., -99.],\n",
       "       [-99.,   0.,   0., ...,   0.,   0., -99.],\n",
       "       [-99., -99., -99., ..., -99., -99., -99.]], dtype=float32)"
      ]
     },
     "execution_count": 25,
     "metadata": {},
     "output_type": "execute_result"
    }
   ],
   "source": [
    "array_slopes = band_slopes.ReadAsArray()\n",
    "array_slopes"
   ]
  },
  {
   "cell_type": "code",
   "execution_count": 28,
   "id": "molecular-pencil",
   "metadata": {},
   "outputs": [
    {
     "ename": "AttributeError",
     "evalue": "'Dataset' object has no attribute 'xy'",
     "output_type": "error",
     "traceback": [
      "\u001b[0;31m---------------------------------------------------------------------------\u001b[0m",
      "\u001b[0;31mAttributeError\u001b[0m                            Traceback (most recent call last)",
      "\u001b[0;32m<ipython-input-28-5b36f3d05b0d>\u001b[0m in \u001b[0;36m<module>\u001b[0;34m\u001b[0m\n\u001b[0;32m----> 1\u001b[0;31m \u001b[0mds_slopes\u001b[0m\u001b[0;34m.\u001b[0m\u001b[0mxy\u001b[0m\u001b[0;34m(\u001b[0m\u001b[0maffine\u001b[0m\u001b[0;34m.\u001b[0m\u001b[0mAffine\u001b[0m\u001b[0;34m,\u001b[0m\u001b[0;36m0\u001b[0m\u001b[0;34m,\u001b[0m\u001b[0;36m0\u001b[0m\u001b[0;34m,\u001b[0m\u001b[0moffset\u001b[0m\u001b[0;34m=\u001b[0m\u001b[0;34m(\u001b[0m\u001b[0mcenter\u001b[0m\u001b[0;34m)\u001b[0m\u001b[0;34m)\u001b[0m\u001b[0;34m\u001b[0m\u001b[0;34m\u001b[0m\u001b[0m\n\u001b[0m",
      "\u001b[0;32m/opt/conda/envs/user_default/lib/python3.8/site-packages/osgeo/gdal.py\u001b[0m in \u001b[0;36m<lambda>\u001b[0;34m(self, name)\u001b[0m\n\u001b[1;32m   2214\u001b[0m     \u001b[0;32mfor\u001b[0m \u001b[0m_s\u001b[0m \u001b[0;32min\u001b[0m \u001b[0;34m[\u001b[0m\u001b[0mMajorObject\u001b[0m\u001b[0;34m]\u001b[0m\u001b[0;34m:\u001b[0m\u001b[0;34m\u001b[0m\u001b[0;34m\u001b[0m\u001b[0m\n\u001b[1;32m   2215\u001b[0m         \u001b[0m__swig_getmethods__\u001b[0m\u001b[0;34m.\u001b[0m\u001b[0mupdate\u001b[0m\u001b[0;34m(\u001b[0m\u001b[0mgetattr\u001b[0m\u001b[0;34m(\u001b[0m\u001b[0m_s\u001b[0m\u001b[0;34m,\u001b[0m \u001b[0;34m'__swig_getmethods__'\u001b[0m\u001b[0;34m,\u001b[0m \u001b[0;34m{\u001b[0m\u001b[0;34m}\u001b[0m\u001b[0;34m)\u001b[0m\u001b[0;34m)\u001b[0m\u001b[0;34m\u001b[0m\u001b[0;34m\u001b[0m\u001b[0m\n\u001b[0;32m-> 2216\u001b[0;31m     \u001b[0m__getattr__\u001b[0m \u001b[0;34m=\u001b[0m \u001b[0;32mlambda\u001b[0m \u001b[0mself\u001b[0m\u001b[0;34m,\u001b[0m \u001b[0mname\u001b[0m\u001b[0;34m:\u001b[0m \u001b[0m_swig_getattr\u001b[0m\u001b[0;34m(\u001b[0m\u001b[0mself\u001b[0m\u001b[0;34m,\u001b[0m \u001b[0mDataset\u001b[0m\u001b[0;34m,\u001b[0m \u001b[0mname\u001b[0m\u001b[0;34m)\u001b[0m\u001b[0;34m\u001b[0m\u001b[0;34m\u001b[0m\u001b[0m\n\u001b[0m\u001b[1;32m   2217\u001b[0m \u001b[0;34m\u001b[0m\u001b[0m\n\u001b[1;32m   2218\u001b[0m     \u001b[0;32mdef\u001b[0m \u001b[0m__init__\u001b[0m\u001b[0;34m(\u001b[0m\u001b[0mself\u001b[0m\u001b[0;34m,\u001b[0m \u001b[0;34m*\u001b[0m\u001b[0margs\u001b[0m\u001b[0;34m,\u001b[0m \u001b[0;34m**\u001b[0m\u001b[0mkwargs\u001b[0m\u001b[0;34m)\u001b[0m\u001b[0;34m:\u001b[0m\u001b[0;34m\u001b[0m\u001b[0;34m\u001b[0m\u001b[0m\n",
      "\u001b[0;32m/opt/conda/envs/user_default/lib/python3.8/site-packages/osgeo/gdal.py\u001b[0m in \u001b[0;36m_swig_getattr\u001b[0;34m(self, class_type, name)\u001b[0m\n\u001b[1;32m     78\u001b[0m     \u001b[0;32mif\u001b[0m \u001b[0mmethod\u001b[0m\u001b[0;34m:\u001b[0m\u001b[0;34m\u001b[0m\u001b[0;34m\u001b[0m\u001b[0m\n\u001b[1;32m     79\u001b[0m         \u001b[0;32mreturn\u001b[0m \u001b[0mmethod\u001b[0m\u001b[0;34m(\u001b[0m\u001b[0mself\u001b[0m\u001b[0;34m)\u001b[0m\u001b[0;34m\u001b[0m\u001b[0;34m\u001b[0m\u001b[0m\n\u001b[0;32m---> 80\u001b[0;31m     \u001b[0;32mraise\u001b[0m \u001b[0mAttributeError\u001b[0m\u001b[0;34m(\u001b[0m\u001b[0;34m\"'%s' object has no attribute '%s'\"\u001b[0m \u001b[0;34m%\u001b[0m \u001b[0;34m(\u001b[0m\u001b[0mclass_type\u001b[0m\u001b[0;34m.\u001b[0m\u001b[0m__name__\u001b[0m\u001b[0;34m,\u001b[0m \u001b[0mname\u001b[0m\u001b[0;34m)\u001b[0m\u001b[0;34m)\u001b[0m\u001b[0;34m\u001b[0m\u001b[0;34m\u001b[0m\u001b[0m\n\u001b[0m\u001b[1;32m     81\u001b[0m \u001b[0;34m\u001b[0m\u001b[0m\n\u001b[1;32m     82\u001b[0m \u001b[0;34m\u001b[0m\u001b[0m\n",
      "\u001b[0;31mAttributeError\u001b[0m: 'Dataset' object has no attribute 'xy'"
     ]
    }
   ],
   "source": [
    "ds_slopes.xy(affine.Affine,0,0,offset=(center))"
   ]
  },
  {
   "cell_type": "code",
   "execution_count": 29,
   "id": "bearing-vintage",
   "metadata": {},
   "outputs": [
    {
     "data": {
      "text/plain": [
       "<matplotlib.image.AxesImage at 0x7f9c935ff100>"
      ]
     },
     "execution_count": 29,
     "metadata": {},
     "output_type": "execute_result"
    },
    {
     "data": {
      "image/png": "[encoded data removed]",
      "text/plain": [
       "<Figure size 432x288 with 1 Axes>"
      ]
     },
     "metadata": {
      "needs_background": "light"
     },
     "output_type": "display_data"
    }
   ],
   "source": [
    "Malawi_OK_Slopes = np.where(array_slopes <= 33.333,1,0)\n",
    "Malawi_OK_Slopes\n",
    "plt.figure()\n",
    "plt.imshow(Malawi_OK_Slopes, cmap=\"GnBu\")"
   ]
  },
  {
   "cell_type": "code",
   "execution_count": 30,
   "id": "suitable-intranet",
   "metadata": {},
   "outputs": [],
   "source": [
    "Malawi_OK_Slopes_tif = Malawi_OK_Slopes+1"
   ]
  },
  {
   "cell_type": "code",
   "execution_count": 31,
   "id": "recreational-skating",
   "metadata": {},
   "outputs": [],
   "source": [
    "# Convert array to .tif\n",
    "ds = gdal.Open(\"MN_elev_masked.tif\")\n",
    "gt = ds.GetGeoTransform()\n",
    "proj = ds.GetProjection()\n",
    "\n",
    "driver = gdal.GetDriverByName(\"GTiff\")\n",
    "driver.Register()\n",
    "outds = driver.Create(\"Malawi_OK_Slopes_tif.tif\",xsize = Malawi_OK_Slopes_tif.shape[1],ysize = Malawi_OK_Slopes_tif.shape[0],bands=1,eType = gdal.GDT_Int16)\n",
    "\n",
    "outds.SetGeoTransform(gt)\n",
    "outds.SetProjection(proj)\n",
    "outband = outds.GetRasterBand(1)\n",
    "\n",
    "outband.WriteArray(Malawi_OK_Slopes_tif)\n",
    "\n",
    "outband.SetNoDataValue(np.nan)\n",
    "\n",
    "outband.FlushCache()\n",
    "\n",
    "outband = None\n",
    "outds = None"
   ]
  },
  {
   "cell_type": "markdown",
   "id": "intermediate-narrow",
   "metadata": {},
   "source": [
    "## Landcover"
   ]
  },
  {
   "cell_type": "markdown",
   "id": "handmade-scroll",
   "metadata": {},
   "source": [
    "#### Water"
   ]
  },
  {
   "cell_type": "code",
   "execution_count": 127,
   "id": "corresponding-precipitation",
   "metadata": {},
   "outputs": [],
   "source": [
    "# Extract all cells that are water"
   ]
  },
  {
   "cell_type": "markdown",
   "id": "convenient-lexington",
   "metadata": {},
   "source": [
    "#### Reclassify to be the same value"
   ]
  },
  {
   "cell_type": "code",
   "execution_count": 9,
   "id": "sustained-links",
   "metadata": {},
   "outputs": [
    {
     "data": {
      "text/plain": [
       "array([[0, 0, 0, ..., 0, 0, 0],\n",
       "       [0, 0, 0, ..., 0, 0, 0],\n",
       "       [0, 0, 0, ..., 0, 0, 0],\n",
       "       ...,\n",
       "       [0, 0, 0, ..., 0, 0, 0],\n",
       "       [0, 0, 0, ..., 0, 0, 0],\n",
       "       [0, 0, 0, ..., 0, 0, 0]], dtype=uint8)"
      ]
     },
     "execution_count": 9,
     "metadata": {},
     "output_type": "execute_result"
    }
   ],
   "source": [
    "ds_water = gdal.Open('Malawi_Landcover/Malawi_Landcover_2010_Sch.tif')\n",
    "gt_water =ds_water.GetGeoTransform()\n",
    "proj_water = ds_water.GetProjection()\n",
    "band_water = ds_water.GetRasterBand(1)\n",
    "array_water = band_water.ReadAsArray()\n",
    "array_water"
   ]
  },
  {
   "cell_type": "code",
   "execution_count": 33,
   "id": "chemical-posting",
   "metadata": {},
   "outputs": [
    {
     "data": {
      "text/plain": [
       "(28060, 11713)"
      ]
     },
     "execution_count": 33,
     "metadata": {},
     "output_type": "execute_result"
    }
   ],
   "source": [
    "array_water.shape"
   ]
  },
  {
   "cell_type": "code",
   "execution_count": 10,
   "id": "dated-marks",
   "metadata": {},
   "outputs": [],
   "source": [
    "water = np.where(array_water == 4,0,1)"
   ]
  },
  {
   "cell_type": "code",
   "execution_count": 35,
   "id": "dramatic-sphere",
   "metadata": {},
   "outputs": [
    {
     "data": {
      "text/plain": [
       "<matplotlib.image.AxesImage at 0x7f9c935e9640>"
      ]
     },
     "execution_count": 35,
     "metadata": {},
     "output_type": "execute_result"
    },
    {
     "data": {
      "image/png": "[encoded data removed]",
      "text/plain": [
       "<Figure size 432x288 with 1 Axes>"
      ]
     },
     "metadata": {
      "needs_background": "light"
     },
     "output_type": "display_data"
    }
   ],
   "source": [
    "plt.figure()\n",
    "plt.imshow(water, cmap=\"GnBu\")"
   ]
  },
  {
   "cell_type": "code",
   "execution_count": 131,
   "id": "needed-house",
   "metadata": {},
   "outputs": [],
   "source": [
    "# Buffer water by 3 cells (90m)"
   ]
  },
  {
   "cell_type": "markdown",
   "id": "hairy-wildlife",
   "metadata": {},
   "source": [
    "#Convert water from 3's to 1's to make the buffer work (1 being water present)\n",
    "water_1 = water/3\n",
    "water_1"
   ]
  },
  {
   "cell_type": "code",
   "execution_count": 11,
   "id": "hispanic-tender",
   "metadata": {},
   "outputs": [],
   "source": [
    "# Buffer by 3 cells\n",
    "\n",
    "from scipy.ndimage import minimum_filter\n",
    "buffer_size = 3\n",
    "water_buffered = minimum_filter(water, size=2*buffer_size+1, mode='constant', cval=1)"
   ]
  },
  {
   "cell_type": "code",
   "execution_count": 12,
   "id": "entertaining-romantic",
   "metadata": {},
   "outputs": [
    {
     "data": {
      "text/plain": [
       "array([[2, 2, 2, ..., 2, 2, 2],\n",
       "       [2, 2, 2, ..., 2, 2, 2],\n",
       "       [2, 2, 2, ..., 2, 2, 2],\n",
       "       ...,\n",
       "       [2, 2, 2, ..., 2, 2, 2],\n",
       "       [2, 2, 2, ..., 2, 2, 2],\n",
       "       [2, 2, 2, ..., 2, 2, 2]])"
      ]
     },
     "execution_count": 12,
     "metadata": {},
     "output_type": "execute_result"
    }
   ],
   "source": [
    "water_buffered_tif = water_buffered+1\n",
    "water_buffered_tif"
   ]
  },
  {
   "cell_type": "code",
   "execution_count": 26,
   "id": "disciplinary-jenny",
   "metadata": {},
   "outputs": [],
   "source": [
    "# Convert array to .tif\n",
    "ds = gdal.Open(\"Malawi_Landcover/Malawi_Landcover_2010_Sch.tif\")\n",
    "gt = ds.GetGeoTransform()\n",
    "proj = ds.GetProjection()\n",
    "\n",
    "driver = gdal.GetDriverByName(\"GTiff\")\n",
    "driver.Register()\n",
    "outds = driver.Create(\"malawi_water_buffered_tif.tif\",xsize = water_buffered_tif.shape[1],ysize = water_buffered_tif.shape[0],bands=1,eType = gdal.GDT_Int16)\n",
    "\n",
    "outds.SetGeoTransform(gt)\n",
    "outds.SetProjection(proj)\n",
    "outband = outds.GetRasterBand(1)\n",
    "\n",
    "outband.WriteArray(water_buffered_tif)\n",
    "\n",
    "outband.SetNoDataValue(np.nan)\n",
    "\n",
    "outband.FlushCache()\n",
    "\n",
    "outband = None\n",
    "outds = None"
   ]
  },
  {
   "cell_type": "code",
   "execution_count": 224,
   "id": "turkish-description",
   "metadata": {},
   "outputs": [
    {
     "data": {
      "image/png": "[encoded data removed]",
      "text/plain": [
       "<Figure size 432x288 with 1 Axes>"
      ]
     },
     "metadata": {
      "needs_background": "light"
     },
     "output_type": "display_data"
    },
    {
     "data": {
      "image/png": "[encoded data removed]",
      "text/plain": [
       "<Figure size 432x288 with 1 Axes>"
      ]
     },
     "metadata": {
      "needs_background": "light"
     },
     "output_type": "display_data"
    },
    {
     "data": {
      "image/png": "[encoded data removed]",
      "text/plain": [
       "<Figure size 432x288 with 1 Axes>"
      ]
     },
     "metadata": {
      "needs_background": "light"
     },
     "output_type": "display_data"
    },
    {
     "data": {
      "text/plain": [
       "<AxesSubplot:>"
      ]
     },
     "execution_count": 224,
     "metadata": {},
     "output_type": "execute_result"
    }
   ],
   "source": [
    "#show(water)\n",
    "#show(water_buffered)\n",
    "#show(water_buffered_tif)"
   ]
  },
  {
   "cell_type": "markdown",
   "id": "racial-initial",
   "metadata": {},
   "source": [
    "#### Forest"
   ]
  },
  {
   "cell_type": "code",
   "execution_count": 137,
   "id": "dietary-grace",
   "metadata": {},
   "outputs": [],
   "source": [
    "# Extract all cells that are forest"
   ]
  },
  {
   "cell_type": "markdown",
   "id": "exposed-beatles",
   "metadata": {},
   "source": [
    "#### Reclassify to be the same value"
   ]
  },
  {
   "cell_type": "code",
   "execution_count": 14,
   "id": "downtown-objective",
   "metadata": {},
   "outputs": [
    {
     "data": {
      "text/plain": [
       "<osgeo.gdal.Dataset; proxy of <Swig Object of type 'GDALDatasetShadow *' at 0x7f4d76116930> >"
      ]
     },
     "execution_count": 14,
     "metadata": {},
     "output_type": "execute_result"
    }
   ],
   "source": [
    "ds_forest = gdal.Open('Malawi_Landcover/Malawi_Landcover_2010_Sch.tif')\n",
    "ds_forest"
   ]
  },
  {
   "cell_type": "code",
   "execution_count": 15,
   "id": "blond-brave",
   "metadata": {},
   "outputs": [
    {
     "data": {
      "text/plain": [
       "(32.67625,\n",
       " 0.000276805448836525,\n",
       " 0.0,\n",
       " -9.365138888888906,\n",
       " 0.0,\n",
       " -0.000276827433277896)"
      ]
     },
     "execution_count": 15,
     "metadata": {},
     "output_type": "execute_result"
    }
   ],
   "source": [
    "gt_forest =ds_forest.GetGeoTransform()\n",
    "gt_forest"
   ]
  },
  {
   "cell_type": "code",
   "execution_count": 16,
   "id": "connected-safety",
   "metadata": {},
   "outputs": [
    {
     "data": {
      "text/plain": [
       "'GEOGCS[\"WGS 84\",DATUM[\"WGS_1984\",SPHEROID[\"WGS 84\",6378137,298.257223563,AUTHORITY[\"EPSG\",\"7030\"]],AUTHORITY[\"EPSG\",\"6326\"]],PRIMEM[\"Greenwich\",0],UNIT[\"degree\",0.0174532925199433,AUTHORITY[\"EPSG\",\"9122\"]],AXIS[\"Latitude\",NORTH],AXIS[\"Longitude\",EAST],AUTHORITY[\"EPSG\",\"4326\"]]'"
      ]
     },
     "execution_count": 16,
     "metadata": {},
     "output_type": "execute_result"
    }
   ],
   "source": [
    "proj_forest = ds_forest.GetProjection()\n",
    "proj_forest"
   ]
  },
  {
   "cell_type": "code",
   "execution_count": 17,
   "id": "literary-spray",
   "metadata": {},
   "outputs": [
    {
     "data": {
      "text/plain": [
       "<osgeo.gdal.Band; proxy of <Swig Object of type 'GDALRasterBandShadow *' at 0x7f4d5d39c2d0> >"
      ]
     },
     "execution_count": 17,
     "metadata": {},
     "output_type": "execute_result"
    }
   ],
   "source": [
    "band_forest = ds_forest.GetRasterBand(1)\n",
    "band_forest"
   ]
  },
  {
   "cell_type": "code",
   "execution_count": 18,
   "id": "moving-wheat",
   "metadata": {},
   "outputs": [
    {
     "data": {
      "text/plain": [
       "array([[0, 0, 0, ..., 0, 0, 0],\n",
       "       [0, 0, 0, ..., 0, 0, 0],\n",
       "       [0, 0, 0, ..., 0, 0, 0],\n",
       "       ...,\n",
       "       [0, 0, 0, ..., 0, 0, 0],\n",
       "       [0, 0, 0, ..., 0, 0, 0],\n",
       "       [0, 0, 0, ..., 0, 0, 0]], dtype=uint8)"
      ]
     },
     "execution_count": 18,
     "metadata": {},
     "output_type": "execute_result"
    }
   ],
   "source": [
    "array_forest = band_forest.ReadAsArray()\n",
    "array_forest"
   ]
  },
  {
   "cell_type": "code",
   "execution_count": 143,
   "id": "ideal-pride",
   "metadata": {},
   "outputs": [],
   "source": [
    "#plt.figure()\n",
    "#plt.imshow(array_forest)"
   ]
  },
  {
   "cell_type": "code",
   "execution_count": 144,
   "id": "inclusive-catering",
   "metadata": {},
   "outputs": [
    {
     "data": {
      "text/plain": [
       "array([[1, 1, 1, ..., 1, 1, 1],\n",
       "       [1, 1, 1, ..., 1, 1, 1],\n",
       "       [1, 1, 1, ..., 1, 1, 1],\n",
       "       ...,\n",
       "       [1, 1, 1, ..., 1, 1, 1],\n",
       "       [1, 1, 1, ..., 1, 1, 1],\n",
       "       [1, 1, 1, ..., 1, 1, 1]])"
      ]
     },
     "execution_count": 144,
     "metadata": {},
     "output_type": "execute_result"
    }
   ],
   "source": [
    "#Not needed for Malawi\n",
    "#forest_41 = np.where(array_forest == 41,0,1)\n",
    "#forest_41"
   ]
  },
  {
   "cell_type": "code",
   "execution_count": 19,
   "id": "thousand-filing",
   "metadata": {},
   "outputs": [
    {
     "data": {
      "text/plain": [
       "array([[1, 1, 1, ..., 1, 1, 1],\n",
       "       [1, 1, 1, ..., 1, 1, 1],\n",
       "       [1, 1, 1, ..., 1, 1, 1],\n",
       "       ...,\n",
       "       [1, 1, 1, ..., 1, 1, 1],\n",
       "       [1, 1, 1, ..., 1, 1, 1],\n",
       "       [1, 1, 1, ..., 1, 1, 1]])"
      ]
     },
     "execution_count": 19,
     "metadata": {},
     "output_type": "execute_result"
    }
   ],
   "source": [
    "forest = np.where(array_forest == 1,0,1)\n",
    "forest"
   ]
  },
  {
   "cell_type": "code",
   "execution_count": 146,
   "id": "clear-gnome",
   "metadata": {},
   "outputs": [
    {
     "data": {
      "text/plain": [
       "array([[1, 1, 1, ..., 1, 1, 1],\n",
       "       [1, 1, 1, ..., 1, 1, 1],\n",
       "       [1, 1, 1, ..., 1, 1, 1],\n",
       "       ...,\n",
       "       [1, 1, 1, ..., 1, 1, 1],\n",
       "       [1, 1, 1, ..., 1, 1, 1],\n",
       "       [1, 1, 1, ..., 1, 1, 1]])"
      ]
     },
     "execution_count": 146,
     "metadata": {},
     "output_type": "execute_result"
    }
   ],
   "source": [
    "#Not needed for Malawi\n",
    "#forest_43 = np.where(array_forest == 43,0,1)\n",
    "#forest_43"
   ]
  },
  {
   "cell_type": "code",
   "execution_count": 147,
   "id": "incorrect-pointer",
   "metadata": {},
   "outputs": [],
   "source": [
    "#forest = forest_41 + forest_42 + forest_43"
   ]
  },
  {
   "cell_type": "markdown",
   "id": "assured-toronto",
   "metadata": {},
   "source": [
    "#### Buffer forested areas by 5 cells (150m)"
   ]
  },
  {
   "cell_type": "code",
   "execution_count": 22,
   "id": "universal-interview",
   "metadata": {},
   "outputs": [],
   "source": [
    "# Buffer by 5 cells\n",
    "\n",
    "from scipy.ndimage import minimum_filter\n",
    "buffer_size = 5\n",
    "forest_buffered = minimum_filter(forest, size=2*buffer_size+1, mode='constant', cval=1)"
   ]
  },
  {
   "cell_type": "code",
   "execution_count": 23,
   "id": "efficient-performer",
   "metadata": {},
   "outputs": [],
   "source": [
    "forests = forest_buffered+1"
   ]
  },
  {
   "cell_type": "code",
   "execution_count": 27,
   "id": "amino-berlin",
   "metadata": {},
   "outputs": [],
   "source": [
    "# Convert array to .tif\n",
    "ds = gdal.Open(\"Malawi_Landcover/Malawi_Landcover_2010_Sch.tif\")\n",
    "gt = ds.GetGeoTransform()\n",
    "proj = ds.GetProjection()\n",
    "\n",
    "driver = gdal.GetDriverByName(\"GTiff\")\n",
    "driver.Register()\n",
    "outds = driver.Create(\"malawi_forest.tif\",xsize = forests.shape[1],ysize = forests.shape[0],bands=1,eType = gdal.GDT_Int16)\n",
    "\n",
    "outds.SetGeoTransform(gt)\n",
    "outds.SetProjection(proj)\n",
    "outband = outds.GetRasterBand(1)\n",
    "\n",
    "outband.WriteArray(forests)\n",
    "\n",
    "outband.SetNoDataValue(np.nan)\n",
    "\n",
    "outband.FlushCache()\n",
    "\n",
    "outband = None\n",
    "outds = None"
   ]
  },
  {
   "cell_type": "markdown",
   "id": "generous-laugh",
   "metadata": {},
   "source": [
    "### Vegetation"
   ]
  },
  {
   "cell_type": "code",
   "execution_count": 150,
   "id": "duplicate-impression",
   "metadata": {},
   "outputs": [],
   "source": [
    "# Extract all vegetated and agricultural landcover"
   ]
  },
  {
   "cell_type": "code",
   "execution_count": 151,
   "id": "gorgeous-voltage",
   "metadata": {},
   "outputs": [],
   "source": [
    "# Reclassify to be the same value"
   ]
  },
  {
   "cell_type": "code",
   "execution_count": 28,
   "id": "joined-conservative",
   "metadata": {},
   "outputs": [],
   "source": [
    "from osgeo import gdal\n",
    "import numpy as np\n",
    "import matplotlib.pyplot as plt"
   ]
  },
  {
   "cell_type": "code",
   "execution_count": 29,
   "id": "quality-determination",
   "metadata": {},
   "outputs": [
    {
     "data": {
      "text/plain": [
       "<osgeo.gdal.Dataset; proxy of <Swig Object of type 'GDALDatasetShadow *' at 0x7f4d76139690> >"
      ]
     },
     "execution_count": 29,
     "metadata": {},
     "output_type": "execute_result"
    }
   ],
   "source": [
    "ds_veg = gdal.Open('Malawi_Landcover/Malawi_Landcover_2010_Scheme_I.tif')\n",
    "ds_veg"
   ]
  },
  {
   "cell_type": "code",
   "execution_count": 30,
   "id": "desirable-paris",
   "metadata": {},
   "outputs": [
    {
     "data": {
      "text/plain": [
       "(32.576663646086196,\n",
       " 0.00027682822193849385,\n",
       " 0.0,\n",
       " -9.26266770167673,\n",
       " 0.0,\n",
       " -0.0002768282219384937)"
      ]
     },
     "execution_count": 30,
     "metadata": {},
     "output_type": "execute_result"
    }
   ],
   "source": [
    "gt_veg=ds_veg.GetGeoTransform()\n",
    "gt_veg"
   ]
  },
  {
   "cell_type": "code",
   "execution_count": 31,
   "id": "dietary-assist",
   "metadata": {},
   "outputs": [
    {
     "data": {
      "text/plain": [
       "'GEOGCS[\"WGS 84\",DATUM[\"WGS_1984\",SPHEROID[\"WGS 84\",6378137,298.257223563,AUTHORITY[\"EPSG\",\"7030\"]],AUTHORITY[\"EPSG\",\"6326\"]],PRIMEM[\"Greenwich\",0],UNIT[\"degree\",0.0174532925199433,AUTHORITY[\"EPSG\",\"9122\"]],AXIS[\"Latitude\",NORTH],AXIS[\"Longitude\",EAST],AUTHORITY[\"EPSG\",\"4326\"]]'"
      ]
     },
     "execution_count": 31,
     "metadata": {},
     "output_type": "execute_result"
    }
   ],
   "source": [
    "proj_veg = ds_veg.GetProjection()\n",
    "proj_veg"
   ]
  },
  {
   "cell_type": "code",
   "execution_count": 32,
   "id": "starting-championship",
   "metadata": {},
   "outputs": [
    {
     "data": {
      "text/plain": [
       "<osgeo.gdal.Band; proxy of <Swig Object of type 'GDALRasterBandShadow *' at 0x7f4d5d39c6c0> >"
      ]
     },
     "execution_count": 32,
     "metadata": {},
     "output_type": "execute_result"
    }
   ],
   "source": [
    "band_veg = ds_veg.GetRasterBand(1)\n",
    "band_veg"
   ]
  },
  {
   "cell_type": "code",
   "execution_count": 33,
   "id": "arctic-teaching",
   "metadata": {},
   "outputs": [
    {
     "data": {
      "text/plain": [
       "array([[255, 255, 255, ..., 255, 255, 255],\n",
       "       [255, 255, 255, ..., 255, 255, 255],\n",
       "       [255, 255, 255, ..., 255, 255, 255],\n",
       "       ...,\n",
       "       [  0,   0,   0, ..., 255, 255, 255],\n",
       "       [255, 255, 255, ..., 255, 255, 255],\n",
       "       [255, 255, 255, ..., 255, 255, 255]], dtype=uint8)"
      ]
     },
     "execution_count": 33,
     "metadata": {},
     "output_type": "execute_result"
    }
   ],
   "source": [
    "array_veg = band_veg.ReadAsArray()\n",
    "array_veg"
   ]
  },
  {
   "cell_type": "code",
   "execution_count": 34,
   "id": "recovered-folder",
   "metadata": {},
   "outputs": [
    {
     "data": {
      "text/plain": [
       "array([[0, 0, 0, ..., 0, 0, 0],\n",
       "       [0, 0, 0, ..., 0, 0, 0],\n",
       "       [0, 0, 0, ..., 0, 0, 0],\n",
       "       ...,\n",
       "       [0, 0, 0, ..., 0, 0, 0],\n",
       "       [0, 0, 0, ..., 0, 0, 0],\n",
       "       [0, 0, 0, ..., 0, 0, 0]])"
      ]
     },
     "execution_count": 34,
     "metadata": {},
     "output_type": "execute_result"
    }
   ],
   "source": [
    "veg = np.where(array_veg == 3,1,0)\n",
    "veg"
   ]
  },
  {
   "cell_type": "code",
   "execution_count": 159,
   "id": "sufficient-olive",
   "metadata": {},
   "outputs": [
    {
     "data": {
      "text/plain": [
       "array([[0, 0, 0, ..., 0, 0, 0],\n",
       "       [0, 0, 0, ..., 0, 0, 0],\n",
       "       [0, 0, 0, ..., 0, 0, 0],\n",
       "       ...,\n",
       "       [0, 0, 0, ..., 0, 0, 0],\n",
       "       [0, 0, 0, ..., 0, 0, 0],\n",
       "       [0, 0, 0, ..., 0, 0, 0]])"
      ]
     },
     "execution_count": 159,
     "metadata": {},
     "output_type": "execute_result"
    }
   ],
   "source": [
    "#Not needed for Malawi\n",
    "#veg_81 = np.where(array_veg == 81,1,0)\n",
    "#veg_81"
   ]
  },
  {
   "cell_type": "code",
   "execution_count": 160,
   "id": "endangered-russia",
   "metadata": {},
   "outputs": [
    {
     "data": {
      "text/plain": [
       "array([[0, 0, 0, ..., 0, 0, 0],\n",
       "       [0, 0, 0, ..., 0, 0, 0],\n",
       "       [0, 0, 0, ..., 0, 0, 0],\n",
       "       ...,\n",
       "       [0, 0, 0, ..., 0, 0, 0],\n",
       "       [0, 0, 0, ..., 0, 0, 0],\n",
       "       [0, 0, 0, ..., 0, 0, 0]])"
      ]
     },
     "execution_count": 160,
     "metadata": {},
     "output_type": "execute_result"
    }
   ],
   "source": [
    "#Not needed for Malawi\n",
    "#veg_82 = np.where(array_veg == 82,1,0)\n",
    "#veg_82"
   ]
  },
  {
   "cell_type": "code",
   "execution_count": 161,
   "id": "fifth-penalty",
   "metadata": {},
   "outputs": [],
   "source": [
    "#vegetation = veg_71 + veg_81 + veg_82"
   ]
  },
  {
   "cell_type": "code",
   "execution_count": 6,
   "id": "atomic-correction",
   "metadata": {},
   "outputs": [
    {
     "ename": "NameError",
     "evalue": "name 'plt' is not defined",
     "output_type": "error",
     "traceback": [
      "\u001b[0;31m---------------------------------------------------------------------------\u001b[0m",
      "\u001b[0;31mNameError\u001b[0m                                 Traceback (most recent call last)",
      "\u001b[0;32m<ipython-input-6-0696101fdfc5>\u001b[0m in \u001b[0;36m<module>\u001b[0;34m\u001b[0m\n\u001b[0;32m----> 1\u001b[0;31m \u001b[0mplt\u001b[0m\u001b[0;34m.\u001b[0m\u001b[0mfigure\u001b[0m\u001b[0;34m(\u001b[0m\u001b[0;34m)\u001b[0m\u001b[0;34m\u001b[0m\u001b[0;34m\u001b[0m\u001b[0m\n\u001b[0m\u001b[1;32m      2\u001b[0m \u001b[0mplt\u001b[0m\u001b[0;34m.\u001b[0m\u001b[0mimshow\u001b[0m\u001b[0;34m(\u001b[0m\u001b[0mveg\u001b[0m\u001b[0;34m)\u001b[0m\u001b[0;34m\u001b[0m\u001b[0;34m\u001b[0m\u001b[0m\n",
      "\u001b[0;31mNameError\u001b[0m: name 'plt' is not defined"
     ]
    }
   ],
   "source": [
    "plt.figure()\n",
    "plt.imshow(veg)"
   ]
  },
  {
   "cell_type": "code",
   "execution_count": 35,
   "id": "usual-illinois",
   "metadata": {},
   "outputs": [],
   "source": [
    "# Convert array to .tif\n",
    "ds = gdal.Open(\"Malawi_Landcover/Malawi_Landcover_2010_Sch.tif\")\n",
    "gt = ds.GetGeoTransform()\n",
    "proj = ds.GetProjection()\n",
    "\n",
    "driver = gdal.GetDriverByName(\"GTiff\")\n",
    "driver.Register()\n",
    "outds = driver.Create(\"malawi_veg.tif\",xsize = veg.shape[1],ysize = veg.shape[0],bands=1,eType = gdal.GDT_Int16)\n",
    "\n",
    "outds.SetGeoTransform(gt)\n",
    "outds.SetProjection(proj)\n",
    "outband = outds.GetRasterBand(1)\n",
    "\n",
    "outband.WriteArray(veg)\n",
    "\n",
    "outband.SetNoDataValue(np.nan)\n",
    "\n",
    "outband.FlushCache()\n",
    "\n",
    "outband = None\n",
    "outds = None"
   ]
  },
  {
   "cell_type": "markdown",
   "id": "unexpected-visibility",
   "metadata": {},
   "source": [
    "## Summation"
   ]
  },
  {
   "cell_type": "code",
   "execution_count": 54,
   "id": "muslim-festival",
   "metadata": {},
   "outputs": [
    {
     "data": {
      "text/plain": [
       "(28802, 12533)"
      ]
     },
     "execution_count": 54,
     "metadata": {},
     "output_type": "execute_result"
    }
   ],
   "source": [
    "veg.shape"
   ]
  },
  {
   "cell_type": "code",
   "execution_count": 55,
   "id": "confidential-leadership",
   "metadata": {},
   "outputs": [
    {
     "data": {
      "text/plain": [
       "(27964, 11672)"
      ]
     },
     "execution_count": 55,
     "metadata": {},
     "output_type": "execute_result"
    }
   ],
   "source": [
    "Malawi_OK_Slopes.shape"
   ]
  },
  {
   "cell_type": "code",
   "execution_count": 56,
   "id": "limiting-paste",
   "metadata": {},
   "outputs": [
    {
     "data": {
      "text/plain": [
       "(28060, 11713)"
      ]
     },
     "execution_count": 56,
     "metadata": {},
     "output_type": "execute_result"
    }
   ],
   "source": [
    "forest_buffered.shape"
   ]
  },
  {
   "cell_type": "code",
   "execution_count": 166,
   "id": "random-citation",
   "metadata": {},
   "outputs": [
    {
     "data": {
      "text/plain": [
       "CRS.from_epsg(26915)"
      ]
     },
     "execution_count": 166,
     "metadata": {},
     "output_type": "execute_result"
    }
   ],
   "source": [
    "elevation.crs"
   ]
  },
  {
   "cell_type": "code",
   "execution_count": 36,
   "id": "upper-shape",
   "metadata": {},
   "outputs": [
    {
     "ename": "ValueError",
     "evalue": "operands could not be broadcast together with shapes (28802,12533) (28060,11713) ",
     "output_type": "error",
     "traceback": [
      "\u001b[0;31m---------------------------------------------------------------------------\u001b[0m",
      "\u001b[0;31mValueError\u001b[0m                                Traceback (most recent call last)",
      "\u001b[0;32m<ipython-input-36-af5b4165110f>\u001b[0m in \u001b[0;36m<module>\u001b[0;34m\u001b[0m\n\u001b[1;32m      1\u001b[0m \u001b[0;31m#Add all the final maps up\u001b[0m\u001b[0;34m\u001b[0m\u001b[0;34m\u001b[0m\u001b[0;34m\u001b[0m\u001b[0m\n\u001b[0;32m----> 2\u001b[0;31m \u001b[0msummation\u001b[0m \u001b[0;34m=\u001b[0m \u001b[0mveg\u001b[0m \u001b[0;34m+\u001b[0m \u001b[0mforest_buffered\u001b[0m \u001b[0;34m+\u001b[0m \u001b[0mwater_buffered\u001b[0m \u001b[0;34m+\u001b[0m \u001b[0mMalawi_OK_Slopes\u001b[0m\u001b[0;34m\u001b[0m\u001b[0;34m\u001b[0m\u001b[0m\n\u001b[0m\u001b[1;32m      3\u001b[0m \u001b[0msummation\u001b[0m\u001b[0;34m\u001b[0m\u001b[0;34m\u001b[0m\u001b[0m\n",
      "\u001b[0;31mValueError\u001b[0m: operands could not be broadcast together with shapes (28802,12533) (28060,11713) "
     ]
    }
   ],
   "source": [
    "#Add all the final maps up\n",
    "summation = veg + forest_buffered + water_buffered + Malawi_OK_Slopes\n",
    "summation"
   ]
  },
  {
   "cell_type": "code",
   "execution_count": null,
   "id": "broke-friday",
   "metadata": {},
   "outputs": [],
   "source": [
    "final_suitability_minnesota = np.where(summation == 4,1,0)\n",
    "final_suitability_minnesota\n",
    "plt.figure()\n",
    "plt.imshow(final_suitability_study_area)"
   ]
  },
  {
   "cell_type": "code",
   "execution_count": null,
   "id": "formal-dining",
   "metadata": {},
   "outputs": [],
   "source": [
    "final_suitability_study_area_tif = final_suitability_study_area + 2"
   ]
  },
  {
   "cell_type": "code",
   "execution_count": null,
   "id": "color-princeton",
   "metadata": {},
   "outputs": [],
   "source": [
    "# Convert array to .tif\n",
    "ds = gdal.Open(\"NLCD_Study_Area.tif\")\n",
    "gt = ds.GetGeoTransform()\n",
    "proj = ds.GetProjection()\n",
    "\n",
    "driver = gdal.GetDriverByName(\"GTiff\")\n",
    "driver.Register()\n",
    "outds = driver.Create(\"study_area_suitability.tif\",xsize = final_suitability_study_area_tif.shape[1],ysize = final_suitability_study_area_tif.shape[0],bands=1,eType = gdal.GDT_Int16)\n",
    "\n",
    "outds.SetGeoTransform(gt)\n",
    "outds.SetProjection(proj)\n",
    "outband = outds.GetRasterBand(1)\n",
    "\n",
    "outband.WriteArray(final_suitability_study_area_tif)\n",
    "\n",
    "outband.SetNoDataValue(np.nan)\n",
    "\n",
    "outband.FlushCache()\n",
    "\n",
    "outband = None\n",
    "outds = None"
   ]
  },
  {
   "cell_type": "markdown",
   "id": "removed-bridges",
   "metadata": {},
   "source": [
    "# From ArcGIS"
   ]
  },
  {
   "cell_type": "code",
   "execution_count": 18,
   "id": "outside-praise",
   "metadata": {},
   "outputs": [
    {
     "data": {
      "text/plain": [
       "array([[0, 0, 0, ..., 0, 0, 0],\n",
       "       [0, 0, 0, ..., 0, 0, 0],\n",
       "       [0, 0, 0, ..., 0, 0, 0],\n",
       "       ...,\n",
       "       [0, 0, 0, ..., 0, 0, 0],\n",
       "       [0, 0, 0, ..., 0, 0, 0],\n",
       "       [0, 0, 0, ..., 0, 0, 0]], dtype=uint8)"
      ]
     },
     "execution_count": 18,
     "metadata": {},
     "output_type": "execute_result"
    }
   ],
   "source": [
    "ds_final = gdal.Open('final_mn_suitability.tif')\n",
    "gt_final =ds_final.GetGeoTransform()\n",
    "proj_final = ds_final.GetProjection()\n",
    "band_final = ds_final.GetRasterBand(1)\n",
    "array_final = band_final.ReadAsArray()\n",
    "array_final"
   ]
  },
  {
   "cell_type": "code",
   "execution_count": 19,
   "id": "organizational-pharmacy",
   "metadata": {},
   "outputs": [
    {
     "data": {
      "image/png": "[encoded data removed]",
      "text/plain": [
       "<Figure size 432x288 with 1 Axes>"
      ]
     },
     "metadata": {
      "needs_background": "light"
     },
     "output_type": "display_data"
    },
    {
     "data": {
      "text/plain": [
       "<AxesSubplot:>"
      ]
     },
     "execution_count": 19,
     "metadata": {},
     "output_type": "execute_result"
    }
   ],
   "source": [
    "show(array_final)"
   ]
  },
  {
   "cell_type": "code",
   "execution_count": 10,
   "id": "dense-complexity",
   "metadata": {},
   "outputs": [
    {
     "data": {
      "image/png": "[encoded data removed]",
      "text/plain": [
       "<Figure size 432x288 with 1 Axes>"
      ]
     },
     "metadata": {
      "needs_background": "light"
     },
     "output_type": "display_data"
    },
    {
     "data": {
      "text/plain": [
       "<AxesSubplot:>"
      ]
     },
     "execution_count": 10,
     "metadata": {},
     "output_type": "execute_result"
    }
   ],
   "source": [
    "malawi_mesonet = np.where(array_final == 6,1,0)\n",
    "show(malawi_mesonet)"
   ]
  },
  {
   "cell_type": "code",
   "execution_count": 15,
   "id": "drawn-colors",
   "metadata": {},
   "outputs": [
    {
     "data": {
      "text/plain": [
       "array([[0, 0, 0, ..., 0, 0, 0],\n",
       "       [0, 0, 0, ..., 0, 0, 0],\n",
       "       [0, 0, 0, ..., 0, 0, 0],\n",
       "       ...,\n",
       "       [0, 0, 0, ..., 0, 0, 0],\n",
       "       [0, 0, 0, ..., 0, 0, 0],\n",
       "       [0, 0, 0, ..., 0, 0, 0]])"
      ]
     },
     "execution_count": 15,
     "metadata": {},
     "output_type": "execute_result"
    }
   ],
   "source": [
    "malawi_mesonet"
   ]
  },
  {
   "cell_type": "code",
   "execution_count": 21,
   "id": "visible-diagram",
   "metadata": {},
   "outputs": [],
   "source": [
    "np.savetxt(\"Minnesota_Final.csv\", array_final, delimiter = ',')"
   ]
  },
  {
   "cell_type": "code",
   "execution_count": 11,
   "id": "anticipated-gardening",
   "metadata": {},
   "outputs": [],
   "source": [
    "# Convert array to .tif\n",
    "ds = gdal.Open(\"ArcGIS/malawi_mesonet_union.tif\")\n",
    "gt = ds.GetGeoTransform()\n",
    "proj = ds.GetProjection()\n",
    "\n",
    "driver = gdal.GetDriverByName(\"GTiff\")\n",
    "driver.Register()\n",
    "outds = driver.Create(\"malawi_finished.tif\",xsize = malawi_mesonet.shape[1],ysize = malawi_mesonet.shape[0],bands=1,eType = gdal.GDT_Int16)\n",
    "\n",
    "outds.SetGeoTransform(gt)\n",
    "outds.SetProjection(proj)\n",
    "outband = outds.GetRasterBand(1)\n",
    "\n",
    "outband.WriteArray(malawi_mesonet)\n",
    "\n",
    "outband.SetNoDataValue(np.nan)\n",
    "\n",
    "outband.FlushCache()\n",
    "\n",
    "outband = None\n",
    "outds = None"
   ]
  },
  {
   "cell_type": "code",
   "execution_count": 12,
   "id": "collectible-parliament",
   "metadata": {},
   "outputs": [
    {
     "data": {
      "image/png": "[encoded data removed]",
      "text/plain": [
       "<Figure size 432x288 with 1 Axes>"
      ]
     },
     "metadata": {
      "needs_background": "light"
     },
     "output_type": "display_data"
    },
    {
     "data": {
      "text/plain": [
       "<AxesSubplot:>"
      ]
     },
     "execution_count": 12,
     "metadata": {},
     "output_type": "execute_result"
    }
   ],
   "source": [
    "arcgis = rasterio.open('ArcGIS/malawi_mesonet_union.tif')\n",
    "show(arcgis)"
   ]
  },
  {
   "cell_type": "code",
   "execution_count": 14,
   "id": "comparative-automation",
   "metadata": {},
   "outputs": [
    {
     "ename": "TypeError",
     "evalue": "where() got an unexpected keyword argument 'malawi_mesonet'",
     "output_type": "error",
     "traceback": [
      "\u001b[0;31m---------------------------------------------------------------------------\u001b[0m",
      "\u001b[0;31mTypeError\u001b[0m                                 Traceback (most recent call last)",
      "\u001b[0;32m<ipython-input-14-3ac4df2004e9>\u001b[0m in \u001b[0;36m<module>\u001b[0;34m\u001b[0m\n\u001b[0;32m----> 1\u001b[0;31m \u001b[0mnp\u001b[0m\u001b[0;34m.\u001b[0m\u001b[0mwhere\u001b[0m\u001b[0;34m(\u001b[0m\u001b[0mmalawi_mesonet\u001b[0m \u001b[0;34m=\u001b[0m \u001b[0;36m6\u001b[0m\u001b[0;34m)\u001b[0m\u001b[0;34m\u001b[0m\u001b[0;34m\u001b[0m\u001b[0m\n\u001b[0m",
      "\u001b[0;32m<__array_function__ internals>\u001b[0m in \u001b[0;36mwhere\u001b[0;34m(*args, **kwargs)\u001b[0m\n",
      "\u001b[0;31mTypeError\u001b[0m: where() got an unexpected keyword argument 'malawi_mesonet'"
     ]
    }
   ],
   "source": [
    "np.where(malawi_mesonet = 6)"
   ]
  },
  {
   "cell_type": "code",
   "execution_count": null,
   "id": "quick-advocacy",
   "metadata": {},
   "outputs": [],
   "source": []
  }
 ],
 "metadata": {
  "kernelspec": {
   "display_name": "Python 3",
   "language": "python",
   "name": "python3"
  },
  "language_info": {
   "codemirror_mode": {
    "name": "ipython",
    "version": 3
   },
   "file_extension": ".py",
   "mimetype": "text/x-python",
   "name": "python",
   "nbconvert_exporter": "python",
   "pygments_lexer": "ipython3",
   "version": "3.8.8"
  }
 },
 "nbformat": 4,
 "nbformat_minor": 5
}
